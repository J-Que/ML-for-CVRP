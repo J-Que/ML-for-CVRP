{
 "metadata": {
  "language_info": {
   "codemirror_mode": {
    "name": "ipython",
    "version": 3
   },
   "file_extension": ".py",
   "mimetype": "text/x-python",
   "name": "python",
   "nbconvert_exporter": "python",
   "pygments_lexer": "ipython3",
   "version": "3.7.6-final"
  },
  "orig_nbformat": 2,
  "kernelspec": {
   "name": "python3",
   "display_name": "Python 3",
   "language": "python"
  }
 },
 "nbformat": 4,
 "nbformat_minor": 2,
 "cells": [
  {
   "cell_type": "code",
   "execution_count": null,
   "metadata": {},
   "outputs": [],
   "source": [
    "import pandas as pd\n",
    "import numpy as np\n",
    "from mpl_toolkits import mplot3d\n",
    "import matplotlib.pyplot as plt\n",
    "import matplotlib\n",
    "matplotlib.rcParams['pdf.fonttype'] = 42\n",
    "matplotlib.rcParams['ps.fonttype'] = 42\n",
    "\n",
    "path = '/full set'"
   ]
  },
  {
   "cell_type": "code",
   "execution_count": null,
   "metadata": {},
   "outputs": [],
   "source": [
    "def plot_box(cw, som, ga, sp, y):\n",
    "    fig = plt.figure()\n",
    "    ax=fig.add_axes([0.11,0.11,.85,0.8])\n",
    "    data = [cw[y], som[y], ga[y], sp[y]]\n",
    "    labels = ['CW', 'SOM', 'GA', 'SP']\n",
    "    ax.boxplot(data, labels=labels, whis=(0,100))\n",
    "    ax.set_xlabel('Heuristic')\n",
    "    ax.set_ylabel(y)\n",
    "    ax.set_title(y + ' Box Plot')\n",
    "    fig.savefig('C:/Users/jdque/Desktop/CVRP/plots' + path + '/feature plots/' + y + '_box.png')\n",
    "    plt.show()"
   ]
  },
  {
   "cell_type": "code",
   "execution_count": null,
   "metadata": {},
   "outputs": [],
   "source": [
    "def plot_features(cw, som, ga, sp, y):\n",
    "    fig = plt.figure()\n",
    "    ax=fig.add_axes([0.11,0.11,.85,0.8])\n",
    "    ax.scatter(cw['ID'], cw[y], color='b', s=2, label='CW')\n",
    "    ax.scatter(som['ID'], som[y], color='g', s=2, label='SOM')\n",
    "    ax.scatter(ga['ID'], ga[y], color='y', s=2, label='GA')\n",
    "    ax.scatter(sp['ID'], sp[y], color='r', s=2, label='SP')\n",
    "    ax.set_xlabel('Instance ID')\n",
    "    ax.set_ylabel(y)\n",
    "    ax.set_title(y + ' Scatter Plot')\n",
    "    ax.legend(prop={'size': 8})\n",
    "    fig.savefig('C:/Users/jdque/Desktop/CVRP/plots' + path + '/feature plots/' + y + '_scattter.png')\n",
    "    plt.show()"
   ]
  },
  {
   "cell_type": "code",
   "execution_count": null,
   "metadata": {},
   "outputs": [],
   "source": [
    "def plot_correlation(cw, som, ga, sp, x, y):\n",
    "    fig = plt.figure()\n",
    "    ax=fig.add_axes([0.11,0.11,.85,0.8])\n",
    "    ax.scatter(cw[x], cw[y], color='b', s=2, label='CW')\n",
    "    ax.scatter(som[x], som[y], color='g', s=2, label='SOM')\n",
    "    ax.scatter(ga[x], ga[y], color='y', s=2, label='GA')\n",
    "    ax.scatter(sp[x], sp[y], color='r', s=2, label='SP')\n",
    "    ax.set_xlabel(x)\n",
    "    ax.set_ylabel(y)\n",
    "    ax.set_title(x + ' vs ' +  y + ' Correlation')\n",
    "    ax.legend(prop={'size': 8})\n",
    "    fig.savefig('C:/Users/jdque/Desktop/CVRP/plots' + path + '/correlation plots/' + x + ' vs ' +  y + '.png')"
   ]
  },
  {
   "cell_type": "code",
   "execution_count": null,
   "metadata": {},
   "outputs": [],
   "source": [
    "df = pd.read_csv('C:/Users/jdque/Desktop/CVRP/CVRP_dataset.csv')\n",
    "df.head()"
   ]
  },
  {
   "cell_type": "code",
   "execution_count": null,
   "metadata": {},
   "outputs": [],
   "source": [
    "sp = df[df['Label'] == 'SP']\n",
    "cw = df[df['Label'] == 'CW']\n",
    "ga = df[df['Label'] == 'GA']\n",
    "som = df[df['Label'] == 'SOM']\n",
    "print(cw.shape, sp.shape, ga.shape, som.shape)"
   ]
  },
  {
   "cell_type": "code",
   "execution_count": null,
   "metadata": {},
   "outputs": [],
   "source": [
    "for i in df.columns[1:24]:\n",
    "    plot_box(cw, som, ga, sp, i)"
   ]
  },
  {
   "cell_type": "code",
   "execution_count": null,
   "metadata": {},
   "outputs": [],
   "source": [
    "for i in df.columns[1:24]:\n",
    "    plot_features(cw, som, ga, sp, i)"
   ]
  },
  {
   "cell_type": "code",
   "execution_count": null,
   "metadata": {},
   "outputs": [],
   "source": [
    "features = list(df.columns[1:24])\n",
    "count = 0\n",
    "\n",
    "for i in df.columns[1:24]:\n",
    "    if len(features) > 1:\n",
    "        for j in features:\n",
    "            if i != j:\n",
    "                count +=1\n",
    "                print (i, count)\n",
    "                plot_correlation(cw,som, ga, sp, i, j)\n",
    "        features.pop(0)\n",
    "            "
   ]
  }
 ]
}